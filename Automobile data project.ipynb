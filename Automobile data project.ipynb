{
 "cells": [
  {
   "cell_type": "markdown",
   "id": "91026de1-5179-408e-9e30-e6f44df9971d",
   "metadata": {},
   "source": [
    "## Objective - deeper pricing strategy to assisting consumers in making choices"
   ]
  },
  {
   "cell_type": "markdown",
   "id": "53dd1922-956d-440f-8cc3-431a7821c646",
   "metadata": {},
   "source": [
    "### importing libraries"
   ]
  },
  {
   "cell_type": "code",
   "execution_count": 67,
   "id": "821a8ee1-ad52-4f13-b5e6-d01ba4168217",
   "metadata": {},
   "outputs": [],
   "source": [
    "import numpy as np\n",
    "import pandas as pd\n",
    "import seaborn as sns\n",
    "import matplotlib.pyplot as plt\n",
    "import warnings\n",
    "warnings.filterwarnings('ignore')"
   ]
  },
  {
   "cell_type": "markdown",
   "id": "29e2ddcf-7e81-49ed-9efc-80293fe874e4",
   "metadata": {},
   "source": [
    "#### reading csv file"
   ]
  },
  {
   "cell_type": "code",
   "execution_count": 68,
   "id": "e0ba1378-943d-480a-9458-8db3d76a43e3",
   "metadata": {},
   "outputs": [],
   "source": [
    "Automobile_data = pd.read_csv(\"Automobile_data.csv\")"
   ]
  },
  {
   "cell_type": "markdown",
   "id": "636151ad-bc2e-4b06-99e0-edf6c6b7f650",
   "metadata": {},
   "source": [
    "#### printing top rows of data frame"
   ]
  },
  {
   "cell_type": "code",
   "execution_count": 69,
   "id": "be606418-6cca-4296-b1f5-c0fcb61ae330",
   "metadata": {},
   "outputs": [
    {
     "data": {
      "text/html": [
       "<div>\n",
       "<style scoped>\n",
       "    .dataframe tbody tr th:only-of-type {\n",
       "        vertical-align: middle;\n",
       "    }\n",
       "\n",
       "    .dataframe tbody tr th {\n",
       "        vertical-align: top;\n",
       "    }\n",
       "\n",
       "    .dataframe thead th {\n",
       "        text-align: right;\n",
       "    }\n",
       "</style>\n",
       "<table border=\"1\" class=\"dataframe\">\n",
       "  <thead>\n",
       "    <tr style=\"text-align: right;\">\n",
       "      <th></th>\n",
       "      <th>index</th>\n",
       "      <th>company</th>\n",
       "      <th>body-style</th>\n",
       "      <th>wheel-base</th>\n",
       "      <th>length</th>\n",
       "      <th>engine-type</th>\n",
       "      <th>num-of-cylinders</th>\n",
       "      <th>horsepower</th>\n",
       "      <th>average-mileage</th>\n",
       "      <th>price</th>\n",
       "    </tr>\n",
       "  </thead>\n",
       "  <tbody>\n",
       "    <tr>\n",
       "      <th>0</th>\n",
       "      <td>0</td>\n",
       "      <td>alfa-romero</td>\n",
       "      <td>convertible</td>\n",
       "      <td>88.6</td>\n",
       "      <td>168.8</td>\n",
       "      <td>dohc</td>\n",
       "      <td>four</td>\n",
       "      <td>111</td>\n",
       "      <td>21</td>\n",
       "      <td>13495.0</td>\n",
       "    </tr>\n",
       "    <tr>\n",
       "      <th>1</th>\n",
       "      <td>1</td>\n",
       "      <td>alfa-romero</td>\n",
       "      <td>convertible</td>\n",
       "      <td>88.6</td>\n",
       "      <td>168.8</td>\n",
       "      <td>dohc</td>\n",
       "      <td>four</td>\n",
       "      <td>111</td>\n",
       "      <td>21</td>\n",
       "      <td>16500.0</td>\n",
       "    </tr>\n",
       "  </tbody>\n",
       "</table>\n",
       "</div>"
      ],
      "text/plain": [
       "   index      company   body-style  wheel-base  length engine-type  \\\n",
       "0      0  alfa-romero  convertible        88.6   168.8        dohc   \n",
       "1      1  alfa-romero  convertible        88.6   168.8        dohc   \n",
       "\n",
       "  num-of-cylinders  horsepower  average-mileage    price  \n",
       "0             four         111               21  13495.0  \n",
       "1             four         111               21  16500.0  "
      ]
     },
     "execution_count": 69,
     "metadata": {},
     "output_type": "execute_result"
    }
   ],
   "source": [
    "Automobile_data.head(2)"
   ]
  },
  {
   "cell_type": "code",
   "execution_count": null,
   "id": "ce38d7b9-306e-47db-9c20-6aefc1774375",
   "metadata": {},
   "outputs": [],
   "source": []
  },
  {
   "cell_type": "code",
   "execution_count": 63,
   "id": "2067aac7-75f2-4d64-bcea-da6fd7bdf9ad",
   "metadata": {},
   "outputs": [
    {
     "name": "stdout",
     "output_type": "stream",
     "text": [
      "<class 'pandas.core.frame.DataFrame'>\n",
      "RangeIndex: 61 entries, 0 to 60\n",
      "Data columns (total 10 columns):\n",
      " #   Column            Non-Null Count  Dtype  \n",
      "---  ------            --------------  -----  \n",
      " 0   index             61 non-null     int64  \n",
      " 1   company           61 non-null     object \n",
      " 2   body-style        61 non-null     object \n",
      " 3   wheel-base        61 non-null     float64\n",
      " 4   length            61 non-null     float64\n",
      " 5   engine-type       61 non-null     object \n",
      " 6   num-of-cylinders  61 non-null     object \n",
      " 7   horsepower        61 non-null     int64  \n",
      " 8   average-mileage   61 non-null     int64  \n",
      " 9   price             58 non-null     float64\n",
      "dtypes: float64(3), int64(3), object(4)\n",
      "memory usage: 4.9+ KB\n"
     ]
    }
   ],
   "source": [
    "Automobile_data.info()         # to know about number of rows, data type , null values."
   ]
  },
  {
   "cell_type": "code",
   "execution_count": 64,
   "id": "986a2a7b-344b-48b3-873a-58327ef0c1b7",
   "metadata": {},
   "outputs": [
    {
     "data": {
      "text/html": [
       "<div>\n",
       "<style scoped>\n",
       "    .dataframe tbody tr th:only-of-type {\n",
       "        vertical-align: middle;\n",
       "    }\n",
       "\n",
       "    .dataframe tbody tr th {\n",
       "        vertical-align: top;\n",
       "    }\n",
       "\n",
       "    .dataframe thead th {\n",
       "        text-align: right;\n",
       "    }\n",
       "</style>\n",
       "<table border=\"1\" class=\"dataframe\">\n",
       "  <thead>\n",
       "    <tr style=\"text-align: right;\">\n",
       "      <th></th>\n",
       "      <th>index</th>\n",
       "      <th>wheel-base</th>\n",
       "      <th>length</th>\n",
       "      <th>horsepower</th>\n",
       "      <th>average-mileage</th>\n",
       "      <th>price</th>\n",
       "    </tr>\n",
       "  </thead>\n",
       "  <tbody>\n",
       "    <tr>\n",
       "      <th>count</th>\n",
       "      <td>61.000000</td>\n",
       "      <td>61.000000</td>\n",
       "      <td>61.000000</td>\n",
       "      <td>61.000000</td>\n",
       "      <td>61.000000</td>\n",
       "      <td>58.000000</td>\n",
       "    </tr>\n",
       "    <tr>\n",
       "      <th>mean</th>\n",
       "      <td>40.885246</td>\n",
       "      <td>98.481967</td>\n",
       "      <td>173.098361</td>\n",
       "      <td>107.852459</td>\n",
       "      <td>25.803279</td>\n",
       "      <td>15387.000000</td>\n",
       "    </tr>\n",
       "    <tr>\n",
       "      <th>std</th>\n",
       "      <td>25.429706</td>\n",
       "      <td>6.679234</td>\n",
       "      <td>14.021846</td>\n",
       "      <td>53.524398</td>\n",
       "      <td>8.129821</td>\n",
       "      <td>11320.259841</td>\n",
       "    </tr>\n",
       "    <tr>\n",
       "      <th>min</th>\n",
       "      <td>0.000000</td>\n",
       "      <td>88.400000</td>\n",
       "      <td>141.100000</td>\n",
       "      <td>48.000000</td>\n",
       "      <td>13.000000</td>\n",
       "      <td>5151.000000</td>\n",
       "    </tr>\n",
       "    <tr>\n",
       "      <th>25%</th>\n",
       "      <td>18.000000</td>\n",
       "      <td>94.500000</td>\n",
       "      <td>159.100000</td>\n",
       "      <td>68.000000</td>\n",
       "      <td>19.000000</td>\n",
       "      <td>6808.500000</td>\n",
       "    </tr>\n",
       "    <tr>\n",
       "      <th>50%</th>\n",
       "      <td>39.000000</td>\n",
       "      <td>96.300000</td>\n",
       "      <td>171.200000</td>\n",
       "      <td>100.000000</td>\n",
       "      <td>25.000000</td>\n",
       "      <td>11095.000000</td>\n",
       "    </tr>\n",
       "    <tr>\n",
       "      <th>75%</th>\n",
       "      <td>61.000000</td>\n",
       "      <td>101.200000</td>\n",
       "      <td>177.300000</td>\n",
       "      <td>123.000000</td>\n",
       "      <td>31.000000</td>\n",
       "      <td>18120.500000</td>\n",
       "    </tr>\n",
       "    <tr>\n",
       "      <th>max</th>\n",
       "      <td>88.000000</td>\n",
       "      <td>120.900000</td>\n",
       "      <td>208.100000</td>\n",
       "      <td>288.000000</td>\n",
       "      <td>47.000000</td>\n",
       "      <td>45400.000000</td>\n",
       "    </tr>\n",
       "  </tbody>\n",
       "</table>\n",
       "</div>"
      ],
      "text/plain": [
       "           index  wheel-base      length  horsepower  average-mileage  \\\n",
       "count  61.000000   61.000000   61.000000   61.000000        61.000000   \n",
       "mean   40.885246   98.481967  173.098361  107.852459        25.803279   \n",
       "std    25.429706    6.679234   14.021846   53.524398         8.129821   \n",
       "min     0.000000   88.400000  141.100000   48.000000        13.000000   \n",
       "25%    18.000000   94.500000  159.100000   68.000000        19.000000   \n",
       "50%    39.000000   96.300000  171.200000  100.000000        25.000000   \n",
       "75%    61.000000  101.200000  177.300000  123.000000        31.000000   \n",
       "max    88.000000  120.900000  208.100000  288.000000        47.000000   \n",
       "\n",
       "              price  \n",
       "count     58.000000  \n",
       "mean   15387.000000  \n",
       "std    11320.259841  \n",
       "min     5151.000000  \n",
       "25%     6808.500000  \n",
       "50%    11095.000000  \n",
       "75%    18120.500000  \n",
       "max    45400.000000  "
      ]
     },
     "execution_count": 64,
     "metadata": {},
     "output_type": "execute_result"
    }
   ],
   "source": [
    "Automobile_data.describe()       # to know more about dispersion of data"
   ]
  },
  {
   "cell_type": "code",
   "execution_count": null,
   "id": "32d164d1-95a6-4489-b3c4-56e8cf0e7bac",
   "metadata": {},
   "outputs": [],
   "source": [
    "# count plot according to company name"
   ]
  },
  {
   "cell_type": "code",
   "execution_count": 72,
   "id": "fbf7f078-04f9-4e8e-8717-b855a2b25e25",
   "metadata": {},
   "outputs": [
    {
     "data": {
      "text/plain": [
       "<Axes: xlabel='count', ylabel='company'>"
      ]
     },
     "execution_count": 72,
     "metadata": {},
     "output_type": "execute_result"
    },
    {
     "data": {
      "image/png": "[encoded data removed]",
      "text/plain": [
       "<Figure size 640x480 with 1 Axes>"
      ]
     },
     "metadata": {},
     "output_type": "display_data"
    }
   ],
   "source": [
    "sns.countplot(data = Automobile_data, y = 'company')"
   ]
  },
  {
   "cell_type": "code",
   "execution_count": null,
   "id": "3aa69f06-69b4-417b-b758-34a12842ec9c",
   "metadata": {},
   "outputs": [],
   "source": [
    "# count plot according to number of cylinders"
   ]
  },
  {
   "cell_type": "code",
   "execution_count": 73,
   "id": "8986c62c-9021-4eb8-82aa-f5ed3ce5ec0b",
   "metadata": {},
   "outputs": [
    {
     "data": {
      "text/plain": [
       "<Axes: xlabel='num-of-cylinders', ylabel='count'>"
      ]
     },
     "execution_count": 73,
     "metadata": {},
     "output_type": "execute_result"
    },
    {
     "data": {
      "image/png": "[encoded data removed]",
      "text/plain": [
       "<Figure size 640x480 with 1 Axes>"
      ]
     },
     "metadata": {},
     "output_type": "display_data"
    }
   ],
   "source": [
    "sns.countplot(data = Automobile_data, x = 'num-of-cylinders')"
   ]
  },
  {
   "cell_type": "code",
   "execution_count": null,
   "id": "2d0d17ac-1d56-46b7-92da-66186b63c613",
   "metadata": {},
   "outputs": [],
   "source": [
    "# count plot according to body style"
   ]
  },
  {
   "cell_type": "code",
   "execution_count": 74,
   "id": "f47663ce-3454-4e80-a424-0c7dc400b0d2",
   "metadata": {},
   "outputs": [
    {
     "data": {
      "text/plain": [
       "<Axes: xlabel='body-style', ylabel='count'>"
      ]
     },
     "execution_count": 74,
     "metadata": {},
     "output_type": "execute_result"
    },
    {
     "data": {
      "image/png": "[encoded data removed]",
      "text/plain": [
       "<Figure size 640x480 with 1 Axes>"
      ]
     },
     "metadata": {},
     "output_type": "display_data"
    }
   ],
   "source": [
    "sns.countplot(data = Automobile_data, x = 'body-style')"
   ]
  },
  {
   "cell_type": "code",
   "execution_count": null,
   "id": "2828c18d-2596-464c-9886-b50ca3ff2951",
   "metadata": {},
   "outputs": [],
   "source": [
    "#  what is the max price of which car"
   ]
  },
  {
   "cell_type": "code",
   "execution_count": 58,
   "id": "52f32313-689b-4fe5-ad4f-4dd4064f251e",
   "metadata": {},
   "outputs": [
    {
     "name": "stdout",
     "output_type": "stream",
     "text": [
      "Company with the Maximum Price: mercedes-benz, Price: 45400.0\n"
     ]
    }
   ],
   "source": [
    "max_price_row = Automobile_data.loc[Automobile_data['price'].idxmax()]\n",
    "print(f\"Company with the Maximum Price: {max_price_row['company']}, Price: {max_price_row['price']}\")"
   ]
  },
  {
   "cell_type": "code",
   "execution_count": 6,
   "id": "d0d7037c-a5d5-476e-9869-359389ef61d1",
   "metadata": {},
   "outputs": [],
   "source": [
    "# To know unique body style we have"
   ]
  },
  {
   "cell_type": "code",
   "execution_count": 15,
   "id": "981370ad-6891-427a-a236-47c893dc4e71",
   "metadata": {},
   "outputs": [
    {
     "name": "stdout",
     "output_type": "stream",
     "text": [
      "['convertible' 'hatchback' 'sedan' 'wagon' 'hardtop']\n"
     ]
    }
   ],
   "source": [
    "body_style = Automobile_data[\"body-style\"].unique()\n",
    "print(body_style)"
   ]
  },
  {
   "cell_type": "code",
   "execution_count": null,
   "id": "aec25621-885a-45c2-a584-fbbc239e281a",
   "metadata": {},
   "outputs": [],
   "source": [
    "# To know different company we have"
   ]
  },
  {
   "cell_type": "code",
   "execution_count": 16,
   "id": "848efc00-2bcd-408d-bdca-f6d3518a4307",
   "metadata": {},
   "outputs": [
    {
     "name": "stdout",
     "output_type": "stream",
     "text": [
      "['alfa-romero' 'audi' 'bmw' 'chevrolet' 'dodge' 'honda' 'isuzu' 'jaguar'\n",
      " 'mazda' 'mercedes-benz' 'mitsubishi' 'nissan' 'porsche' 'toyota'\n",
      " 'volkswagen' 'volvo']\n"
     ]
    }
   ],
   "source": [
    "companies = Automobile_data[\"company\"].unique()\n",
    "print(companies)"
   ]
  },
  {
   "cell_type": "code",
   "execution_count": 42,
   "id": "5cfbfa31-9186-4d9b-8604-c7000486dbf9",
   "metadata": {},
   "outputs": [],
   "source": [
    "# 1 . what is the average price and average mileage for all cars"
   ]
  },
  {
   "cell_type": "code",
   "execution_count": 19,
   "id": "9eac8acc-7005-4347-98b0-6c27aeb36102",
   "metadata": {},
   "outputs": [
    {
     "name": "stdout",
     "output_type": "stream",
     "text": [
      "                    price  average-mileage\n",
      "body-style                                \n",
      "convertible  22341.000000        19.666667\n",
      "hardtop      39714.000000        15.500000\n",
      "hatchback     7159.571429        30.466667\n",
      "sedan        17706.333333        24.937500\n",
      "wagon        12730.111111        25.444444\n"
     ]
    }
   ],
   "source": [
    "mean_value_by_body_type = pd.DataFrame(Automobile_data.groupby(\"body-style\")[[\"price\",\"average-mileage\"]].mean())\n",
    "print(mean_value_by_body_type)"
   ]
  },
  {
   "cell_type": "code",
   "execution_count": null,
   "id": "829ef6b2-fe0f-4a3f-afef-ed6e2df9ef85",
   "metadata": {},
   "outputs": [],
   "source": [
    "# 2 . what is the average price and average mileage for convertible car"
   ]
  },
  {
   "cell_type": "code",
   "execution_count": 20,
   "id": "c6d73ea1-d892-42a7-b6f8-61969ef71bec",
   "metadata": {},
   "outputs": [
    {
     "data": {
      "text/plain": [
       "price              22341.000000\n",
       "average-mileage       19.666667\n",
       "Name: convertible, dtype: float64"
      ]
     },
     "execution_count": 20,
     "metadata": {},
     "output_type": "execute_result"
    }
   ],
   "source": [
    "mean_value_by_body_type.loc['convertible']"
   ]
  },
  {
   "cell_type": "code",
   "execution_count": 41,
   "id": "8d6f8114-9248-488d-84b0-86d28901da4d",
   "metadata": {},
   "outputs": [],
   "source": [
    "# 3. Sort cars company by price in decending order"
   ]
  },
  {
   "cell_type": "code",
   "execution_count": 23,
   "id": "3ca34125-235b-475b-bec0-eb532813f246",
   "metadata": {},
   "outputs": [
    {
     "name": "stdout",
     "output_type": "stream",
     "text": [
      "    index        company   body-style  wheel-base  length engine-type  \\\n",
      "35     47  mercedes-benz      hardtop       112.0   199.2        ohcv   \n",
      "11     14            bmw        sedan       103.5   193.8         ohc   \n",
      "34     46  mercedes-benz        sedan       120.9   208.1        ohcv   \n",
      "46     62        porsche  convertible        89.5   168.9        ohcf   \n",
      "12     15            bmw        sedan       110.0   197.0         ohc   \n",
      "\n",
      "   num-of-cylinders  horsepower  average-mileage    price  \n",
      "35            eight         184               14  45400.0  \n",
      "11              six         182               16  41315.0  \n",
      "34            eight         184               14  40960.0  \n",
      "46              six         207               17  37028.0  \n",
      "12              six         182               15  36880.0  \n"
     ]
    }
   ],
   "source": [
    "sort_by_com_price = Automobile_data.sort_values([\"price\"],ascending = False).head()\n",
    "print(sort_by_com_price)"
   ]
  },
  {
   "cell_type": "code",
   "execution_count": 40,
   "id": "dce961db-a355-4eca-a2f9-9809dba7cb51",
   "metadata": {},
   "outputs": [],
   "source": [
    "# 4. Save data for 'Toyota' separately"
   ]
  },
  {
   "cell_type": "code",
   "execution_count": 27,
   "id": "4e71e305-3a9b-4052-aefc-a6933aee7ad7",
   "metadata": {},
   "outputs": [
    {
     "name": "stdout",
     "output_type": "stream",
     "text": [
      "    index company body-style  wheel-base  length engine-type num-of-cylinders  \\\n",
      "48     66  toyota  hatchback        95.7   158.7         ohc             four   \n",
      "49     67  toyota  hatchback        95.7   158.7         ohc             four   \n",
      "50     68  toyota  hatchback        95.7   158.7         ohc             four   \n",
      "51     69  toyota      wagon        95.7   169.7         ohc             four   \n",
      "52     70  toyota      wagon        95.7   169.7         ohc             four   \n",
      "53     71  toyota      wagon        95.7   169.7         ohc             four   \n",
      "54     79  toyota      wagon       104.5   187.8        dohc              six   \n",
      "\n",
      "    horsepower  average-mileage    price  \n",
      "48          62               35   5348.0  \n",
      "49          62               31   6338.0  \n",
      "50          62               31   6488.0  \n",
      "51          62               31   6918.0  \n",
      "52          62               27   7898.0  \n",
      "53          62               27   8778.0  \n",
      "54         156               19  15750.0  \n"
     ]
    }
   ],
   "source": [
    "Toyota_car = Automobile_data[Automobile_data[\"company\"]==\"toyota\"]\n",
    "print(Toyota_car)"
   ]
  },
  {
   "cell_type": "code",
   "execution_count": 28,
   "id": "6dc76c95-2f40-470e-8483-b5156af9a825",
   "metadata": {},
   "outputs": [],
   "source": [
    "# 5 . which company is producing most expensive car"
   ]
  },
  {
   "cell_type": "code",
   "execution_count": 29,
   "id": "ffd801d0-9663-4326-bf47-4d5db896702e",
   "metadata": {},
   "outputs": [
    {
     "name": "stdout",
     "output_type": "stream",
     "text": [
      "          company    price\n",
      "0   mercedes-benz  45400.0\n",
      "1             bmw  41315.0\n",
      "2         porsche  37028.0\n",
      "3          jaguar  36000.0\n",
      "4            audi  18920.0\n",
      "5           mazda  18344.0\n",
      "6     alfa-romero  16500.0\n",
      "7          toyota  15750.0\n",
      "8          nissan  13499.0\n",
      "9           volvo  13415.0\n",
      "10          honda  12945.0\n",
      "11     volkswagen   9995.0\n",
      "12     mitsubishi   8189.0\n",
      "13          isuzu   6785.0\n",
      "14      chevrolet   6575.0\n",
      "15          dodge   6377.0\n"
     ]
    }
   ],
   "source": [
    "company_price = pd.DataFrame(Automobile_data.groupby(\"company\")[\"price\"].max().sort_values(ascending=False)).reset_index()\n",
    "print(company_price)"
   ]
  },
  {
   "cell_type": "code",
   "execution_count": 39,
   "id": "a30be7ef-9920-4ce3-8635-8446144011a1",
   "metadata": {},
   "outputs": [],
   "source": [
    "# 6. Name the cars on basis of maximum length, highest, wheelbase, maximum horsepower"
   ]
  },
  {
   "cell_type": "code",
   "execution_count": 31,
   "id": "3e104793-50a0-4f48-9d54-e73bcb06adb5",
   "metadata": {},
   "outputs": [
    {
     "name": "stdout",
     "output_type": "stream",
     "text": [
      "               length  wheel-base  horsepower\n",
      "company                                      \n",
      "alfa-romero     171.2        94.5         154\n",
      "audi            192.7       105.8         115\n",
      "bmw             197.0       110.0         182\n",
      "chevrolet       158.8        94.5          70\n",
      "dodge           157.3        93.7          68\n",
      "honda           175.4        96.5         101\n",
      "isuzu           170.7        94.5          78\n",
      "jaguar          199.6       113.0         262\n",
      "mazda           175.0       104.9         101\n",
      "mercedes-benz   208.1       120.9         184\n",
      "mitsubishi      172.4        96.3          88\n",
      "nissan          184.6       100.4         152\n",
      "porsche         175.7        98.4         288\n",
      "toyota          187.8       104.5         156\n",
      "volkswagen      171.7        97.3         100\n",
      "volvo           188.8       104.3         114\n"
     ]
    }
   ],
   "source": [
    "max_values = pd.DataFrame(Automobile_data.groupby(\"company\")[[\"length\", \"wheel-base\",\"horsepower\"]].max())\n",
    "print(max_values)"
   ]
  },
  {
   "cell_type": "code",
   "execution_count": 38,
   "id": "13c1cdf6-454d-4533-8fd1-deb299660b06",
   "metadata": {},
   "outputs": [],
   "source": [
    "# 7. company wise average price of cars and order them in decending order"
   ]
  },
  {
   "cell_type": "code",
   "execution_count": 32,
   "id": "7bc4096c-2acc-49f6-b532-3c84b02ceb9c",
   "metadata": {},
   "outputs": [
    {
     "name": "stdout",
     "output_type": "stream",
     "text": [
      "          company         price\n",
      "0         porsche  35528.000000\n",
      "1   mercedes-benz  35040.000000\n",
      "2          jaguar  34600.000000\n",
      "3             bmw  27213.333333\n",
      "4            audi  16392.500000\n",
      "5     alfa-romero  15498.333333\n",
      "6           volvo  13177.500000\n",
      "7           honda  10195.000000\n",
      "8           mazda   9654.800000\n",
      "9      volkswagen   8435.000000\n",
      "10         nissan   8289.000000\n",
      "11         toyota   8216.857143\n",
      "12          isuzu   6785.000000\n",
      "13     mitsubishi   6689.000000\n",
      "14          dodge   6303.000000\n",
      "15      chevrolet   6007.000000\n"
     ]
    }
   ],
   "source": [
    "avg_price = pd.DataFrame(Automobile_data.groupby(\"company\")[\"price\"].mean().sort_values(ascending=False)).reset_index()\n",
    "print(avg_price)"
   ]
  },
  {
   "cell_type": "code",
   "execution_count": 37,
   "id": "e6096fab-7508-4e61-ad88-e52d3550d791",
   "metadata": {},
   "outputs": [],
   "source": [
    "# 8. create a column named: \"decision\", If wheel-base is less than 100 and length is less than 175 then \"don't buy\" else \"buy\""
   ]
  },
  {
   "cell_type": "code",
   "execution_count": 59,
   "id": "457dec6c-b3ba-48bd-bf54-c2ad6d93a273",
   "metadata": {},
   "outputs": [
    {
     "data": {
      "text/html": [
       "<div>\n",
       "<style scoped>\n",
       "    .dataframe tbody tr th:only-of-type {\n",
       "        vertical-align: middle;\n",
       "    }\n",
       "\n",
       "    .dataframe tbody tr th {\n",
       "        vertical-align: top;\n",
       "    }\n",
       "\n",
       "    .dataframe thead th {\n",
       "        text-align: right;\n",
       "    }\n",
       "</style>\n",
       "<table border=\"1\" class=\"dataframe\">\n",
       "  <thead>\n",
       "    <tr style=\"text-align: right;\">\n",
       "      <th></th>\n",
       "      <th>index</th>\n",
       "      <th>company</th>\n",
       "      <th>body-style</th>\n",
       "      <th>wheel-base</th>\n",
       "      <th>length</th>\n",
       "      <th>engine-type</th>\n",
       "      <th>num-of-cylinders</th>\n",
       "      <th>horsepower</th>\n",
       "      <th>average-mileage</th>\n",
       "      <th>price</th>\n",
       "      <th>decision</th>\n",
       "    </tr>\n",
       "  </thead>\n",
       "  <tbody>\n",
       "    <tr>\n",
       "      <th>0</th>\n",
       "      <td>0</td>\n",
       "      <td>alfa-romero</td>\n",
       "      <td>convertible</td>\n",
       "      <td>88.6</td>\n",
       "      <td>168.8</td>\n",
       "      <td>dohc</td>\n",
       "      <td>four</td>\n",
       "      <td>111</td>\n",
       "      <td>21</td>\n",
       "      <td>13495.0</td>\n",
       "      <td>don't buy</td>\n",
       "    </tr>\n",
       "    <tr>\n",
       "      <th>1</th>\n",
       "      <td>1</td>\n",
       "      <td>alfa-romero</td>\n",
       "      <td>convertible</td>\n",
       "      <td>88.6</td>\n",
       "      <td>168.8</td>\n",
       "      <td>dohc</td>\n",
       "      <td>four</td>\n",
       "      <td>111</td>\n",
       "      <td>21</td>\n",
       "      <td>16500.0</td>\n",
       "      <td>don't buy</td>\n",
       "    </tr>\n",
       "    <tr>\n",
       "      <th>2</th>\n",
       "      <td>2</td>\n",
       "      <td>alfa-romero</td>\n",
       "      <td>hatchback</td>\n",
       "      <td>94.5</td>\n",
       "      <td>171.2</td>\n",
       "      <td>ohcv</td>\n",
       "      <td>six</td>\n",
       "      <td>154</td>\n",
       "      <td>19</td>\n",
       "      <td>16500.0</td>\n",
       "      <td>don't buy</td>\n",
       "    </tr>\n",
       "    <tr>\n",
       "      <th>3</th>\n",
       "      <td>3</td>\n",
       "      <td>audi</td>\n",
       "      <td>sedan</td>\n",
       "      <td>99.8</td>\n",
       "      <td>176.6</td>\n",
       "      <td>ohc</td>\n",
       "      <td>four</td>\n",
       "      <td>102</td>\n",
       "      <td>24</td>\n",
       "      <td>13950.0</td>\n",
       "      <td>buy</td>\n",
       "    </tr>\n",
       "    <tr>\n",
       "      <th>4</th>\n",
       "      <td>4</td>\n",
       "      <td>audi</td>\n",
       "      <td>sedan</td>\n",
       "      <td>99.4</td>\n",
       "      <td>176.6</td>\n",
       "      <td>ohc</td>\n",
       "      <td>five</td>\n",
       "      <td>115</td>\n",
       "      <td>18</td>\n",
       "      <td>17450.0</td>\n",
       "      <td>buy</td>\n",
       "    </tr>\n",
       "  </tbody>\n",
       "</table>\n",
       "</div>"
      ],
      "text/plain": [
       "   index      company   body-style  wheel-base  length engine-type  \\\n",
       "0      0  alfa-romero  convertible        88.6   168.8        dohc   \n",
       "1      1  alfa-romero  convertible        88.6   168.8        dohc   \n",
       "2      2  alfa-romero    hatchback        94.5   171.2        ohcv   \n",
       "3      3         audi        sedan        99.8   176.6         ohc   \n",
       "4      4         audi        sedan        99.4   176.6         ohc   \n",
       "\n",
       "  num-of-cylinders  horsepower  average-mileage    price   decision  \n",
       "0             four         111               21  13495.0  don't buy  \n",
       "1             four         111               21  16500.0  don't buy  \n",
       "2              six         154               19  16500.0  don't buy  \n",
       "3             four         102               24  13950.0        buy  \n",
       "4             five         115               18  17450.0        buy  "
      ]
     },
     "execution_count": 59,
     "metadata": {},
     "output_type": "execute_result"
    }
   ],
   "source": [
    "Automobile_data[\"decision\"] = np.where((Automobile_data[\"wheel-base\"]<100) & (Automobile_data[\"length\"]<175), \"don't buy\" ,\"buy\")\n",
    "Automobile_data.head()"
   ]
  },
  {
   "cell_type": "code",
   "execution_count": 42,
   "id": "dd6727a4-6c7b-4b74-950b-0d0c3d9d9f07",
   "metadata": {},
   "outputs": [],
   "source": [
    "# 9. Select only cars whose decision is \"buy\"; find average price based on company of car"
   ]
  },
  {
   "cell_type": "code",
   "execution_count": 36,
   "id": "67ab8a7d-0547-49ef-a8b7-18f95c57a63c",
   "metadata": {},
   "outputs": [
    {
     "name": "stdout",
     "output_type": "stream",
     "text": [
      "Average price for decision to buy a car : price    24334.913043\n",
      "Name: buy, dtype: float64\n"
     ]
    }
   ],
   "source": [
    "avg_decision_buy = pd.DataFrame(Automobile_data.groupby(\"decision\")[\"price\"].mean()).loc[\"buy\"]\n",
    "print(\"Average price for decision to buy a car :\" ,avg_decision_buy)"
   ]
  }
 ],
 "metadata": {
  "kernelspec": {
   "display_name": "Python 3 (ipykernel)",
   "language": "python",
   "name": "python3"
  },
  "language_info": {
   "codemirror_mode": {
    "name": "ipython",
    "version": 3
   },
   "file_extension": ".py",
   "mimetype": "text/x-python",
   "name": "python",
   "nbconvert_exporter": "python",
   "pygments_lexer": "ipython3",
   "version": "3.9.13"
  }
 },
 "nbformat": 4,
 "nbformat_minor": 5
}
